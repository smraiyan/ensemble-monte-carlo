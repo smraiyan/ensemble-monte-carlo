{
 "cells": [
  {
   "cell_type": "markdown",
   "id": "3639b772",
   "metadata": {},
   "source": [
    "# Laser Rate Equation Solver"
   ]
  },
  {
   "cell_type": "code",
   "execution_count": null,
   "id": "f8ef3c67",
   "metadata": {
    "ExecuteTime": {
     "end_time": "2023-05-10T05:59:33.141279Z",
     "start_time": "2023-05-10T05:59:31.395861Z"
    }
   },
   "outputs": [],
   "source": [
    "import numpy as np\n",
    "import matplotlib.pyplot as plt\n",
    "plt.rcParams['axes.axisbelow'] = True \n",
    "from scipy.integrate import odeint \n",
    "from sklearn.preprocessing import Normalizer "
   ]
  },
  {
   "cell_type": "code",
   "execution_count": null,
   "id": "596bcb2c",
   "metadata": {
    "ExecuteTime": {
     "end_time": "2023-05-10T07:33:00.254520Z",
     "start_time": "2023-05-10T07:33:00.251437Z"
    }
   },
   "outputs": [],
   "source": [
    "tau_cap = 45e-12\n",
    "tau_sb = 500e-12 \n",
    "tau_s = 300e-12"
   ]
  },
  {
   "cell_type": "code",
   "execution_count": null,
   "id": "7cef2803",
   "metadata": {
    "ExecuteTime": {
     "end_time": "2023-05-10T08:02:14.264189Z",
     "start_time": "2023-05-10T08:02:14.061325Z"
    }
   },
   "outputs": [],
   "source": [
    "tau_cap = 6000e-12\n",
    "tau_sb = 80000e-12 \n",
    "tau_s = 614400e-12\n",
    "\n",
    "e = 1.6e-19 \n",
    "eps = 4.5e-17\n",
    "B_sp = 9.4e-10\n",
    "C = 3.8e-29\n",
    "vg = 0.87e10\n",
    "gam = 0.024 \n",
    "beta = 6e-4\n",
    "tau_ph = 1.25e-12\n",
    "Nab = 5e17 \n",
    "Na = 7e17\n",
    "P_spin = -0.198    \n",
    "Vb = 2.1e-11\n",
    "Vmqw = 2.8e-11         \n",
    "n_tr = 9.3e17 if P_spin == 0 else 7.8e17   \n",
    "dg_dn = 1.1e-14\n",
    "gain = lambda n,S: dg_dn*(n - n_tr)/(1 + eps*S) \n",
    "S0 = 10**2  \n",
    "i_pump = 4e-3 \n",
    "\n",
    "# x = [nb_plus, nb_minus, n_plus, n_minus, S_plus, S_minus]\n",
    "def F(x,t):\n",
    "    Dx0 = - x[0]/tau_cap + ((1 + P_spin)/2) * i_pump/(e*Vb) - (x[0] - x[1])/tau_sb\n",
    "    Dx1 = - x[1]/tau_cap + ((1 - P_spin)/2) * i_pump/(e*Vb) + (x[0] - x[1])/tau_sb\n",
    "    Dx2 = (Vb/Vmqw)*x[0]/tau_cap - vg*gain(x[2],x[5])*x[5] - (x[2] - x[3])/tau_s - B_sp*x[2]*(x[2] + x[3])/2 - C*x[2]*((x[2] + x[3])**2)/2\n",
    "    Dx3 = (Vb/Vmqw)*x[1]/tau_cap - vg*gain(x[3],x[4])*x[4] + (x[2] - x[3])/tau_s - B_sp*x[3]*(x[2] + x[3])/2 - C*x[3]*((x[2] + x[3])**2)/2\n",
    "    Dx4 = gam*vg*gain(x[3],x[4])*x[4] + gam*beta*B_sp*x[3]*(x[2] + x[3])/2 - x[4]/tau_ph \n",
    "    Dx5 = gam*vg*gain(x[2],x[5])*x[5] + gam*beta*B_sp*x[2]*(x[2] + x[3])/2 - x[5]/tau_ph \n",
    "    return [Dx0, Dx1, Dx2, Dx3, Dx4, Dx5]\n",
    "\n",
    "x_init = [Nab*P_spin, Nab*(1-P_spin), Na*P_spin, Na*(1-P_spin), S0/2, S0/2] \n",
    "time = np.linspace(0, 5e-8, 100)  \n",
    "x_sol = odeint(F, x_init, time) \n",
    "Norm = Normalizer('l2')   \n",
    "x_sol_norm = Norm.transform(x_sol)\n",
    "\n",
    "intensity = x_sol_norm[:,4] + x_sol_norm[:,5]\n",
    "PolB = (x_sol_norm[:,0] - x_sol_norm[:,1])/(x_sol_norm[:,0] + x_sol_norm[:,1])\n",
    "Pol  = (x_sol_norm[:,2] - x_sol_norm[:,3])/(x_sol_norm[:,2] + x_sol_norm[:,3])\n",
    "PolL = (x_sol_norm[:,4] - x_sol_norm[:,5])/(x_sol_norm[:,4] + x_sol_norm[:,5]) \n",
    "print(PolB[-1], Pol[-1], PolL[-1], intensity[-1]) \n",
    "\n",
    "plt.figure(1, dpi=120)\n",
    "plt.plot(time, x_sol_norm[:,0])\n",
    "plt.plot(time, x_sol_norm[:,1]) \n",
    "\n",
    "plt.figure(2, dpi=120)\n",
    "plt.plot(time, x_sol_norm[:,2]) \n",
    "plt.plot(time, x_sol_norm[:,3])\n",
    "\n",
    "plt.figure(3, dpi=120)\n",
    "plt.plot(time, x_sol_norm[:,4]) \n",
    "plt.plot(time, x_sol_norm[:,5]) \n"
   ]
  },
  {
   "cell_type": "code",
   "execution_count": null,
   "id": "e9e066ad",
   "metadata": {
    "ExecuteTime": {
     "end_time": "2023-05-10T08:02:17.935050Z",
     "start_time": "2023-05-10T08:02:17.137393Z"
    }
   },
   "outputs": [],
   "source": [
    "# L-I Characteristics \n",
    "\n",
    "i_pumps = np.linspace(0.5, 25, 25)*1e-3  \n",
    "x_init = [Nab*P_spin, Nab*(1-P_spin), Na*P_spin, Na*(1-P_spin), S0/2, S0/2] \n",
    "intensity = np.zeros(len(i_pumps)) \n",
    "intp, intm = np.zeros(len(i_pumps)), np.zeros(len(i_pumps)) \n",
    "for i_pump in i_pumps: \n",
    "    def F(x,t): \n",
    "        Dx0 =  - x[0]/tau_cap + ((1 + P_spin)/2) * i_pump/(e*Vb) - (x[0] - x[1])/tau_sb\n",
    "        Dx1 =  - x[1]/tau_cap + ((1 - P_spin)/2) * i_pump/(e*Vb) + (x[0] - x[1])/tau_sb\n",
    "        Dx2 = (Vb/Vmqw)*x[0]/tau_cap - vg*gain(x[2],x[5])*x[5] - (x[2] - x[3])/tau_s - B_sp*x[2]*(x[2] + x[3])/2 - C*x[2]*((x[2] + x[3])**2)/2\n",
    "        Dx3 = (Vb/Vmqw)*x[1]/tau_cap - vg*gain(x[3],x[4])*x[4] + (x[2] - x[3])/tau_s - B_sp*x[3]*(x[2] + x[3])/2 - C*x[3]*((x[2] + x[3])**2)/2\n",
    "        Dx4 = gam*vg*gain(x[3],x[4])*x[4] + gam*beta*B_sp*x[3]*(x[2] + x[3])/2 - x[4]/tau_ph \n",
    "        Dx5 = gam*vg*gain(x[2],x[5])*x[5] + gam*beta*B_sp*x[2]*(x[2] + x[3])/2 - x[5]/tau_ph \n",
    "        return [Dx0, Dx1, Dx2, Dx3, Dx4, Dx5]\n",
    "    x_sol = odeint(F, x_init, time) \n",
    "    intp[i_pump==i_pumps], intm[i_pump==i_pumps] = x_sol[:,4][-1], x_sol[:,5][-1] \n",
    "    intensity[i_pump==i_pumps] = x_sol[:,4][-1] + x_sol[:,5][-1] \n",
    "\n",
    "print(intensity)\n",
    "print(intp)\n",
    "print(intm) \n",
    "\n",
    "plt.figure(2, dpi=120)\n",
    "plt.plot(i_pumps*1e3, intensity, marker='o', label = r'$S^{\\pm}$')  \n",
    "plt.plot(i_pumps*1e3, intp, marker='o', label = r'$S^{+}$') \n",
    "plt.plot(i_pumps*1e3, intm, marker='o', label = r'$S^{-}$')\n",
    "plt.legend() \n",
    "ax = plt.gca() \n",
    "ax.axes.yaxis.set_ticklabels([]) \n",
    "plt.xlabel('Pump Current (mA)')\n",
    "plt.ylabel('Light Intensity (a.u.)') \n",
    "plt.grid()   \n",
    "\n"
   ]
  }
 ],
 "metadata": {
  "kernelspec": {
   "display_name": "Python 3 (ipykernel)",
   "language": "python",
   "name": "python3"
  },
  "language_info": {
   "codemirror_mode": {
    "name": "ipython",
    "version": 3
   },
   "file_extension": ".py",
   "mimetype": "text/x-python",
   "name": "python",
   "nbconvert_exporter": "python",
   "pygments_lexer": "ipython3",
   "version": "3.9.13"
  },
  "toc": {
   "base_numbering": 1,
   "nav_menu": {},
   "number_sections": true,
   "sideBar": true,
   "skip_h1_title": false,
   "title_cell": "Table of Contents",
   "title_sidebar": "Contents",
   "toc_cell": false,
   "toc_position": {},
   "toc_section_display": true,
   "toc_window_display": false
  },
  "varInspector": {
   "cols": {
    "lenName": 16,
    "lenType": 16,
    "lenVar": 40
   },
   "kernels_config": {
    "python": {
     "delete_cmd_postfix": "",
     "delete_cmd_prefix": "del ",
     "library": "var_list.py",
     "varRefreshCmd": "print(var_dic_list())"
    },
    "r": {
     "delete_cmd_postfix": ") ",
     "delete_cmd_prefix": "rm(",
     "library": "var_list.r",
     "varRefreshCmd": "cat(var_dic_list()) "
    }
   },
   "types_to_exclude": [
    "module",
    "function",
    "builtin_function_or_method",
    "instance",
    "_Feature"
   ],
   "window_display": false
  }
 },
 "nbformat": 4,
 "nbformat_minor": 5
}
